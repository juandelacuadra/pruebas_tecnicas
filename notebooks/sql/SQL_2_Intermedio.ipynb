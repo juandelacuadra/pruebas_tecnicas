{
 "cells": [
  {
   "cell_type": "markdown",
   "metadata": {},
   "source": [
    "## Prueba Técnica de SQL \n",
    "### Nivel intermedio\n",
    "#### Data Engineer Junior\n",
    "---\n",
    "\n",
    "**Instrucciones:** Escribe consultas SQL para resolver los siguientes escenarios utilizando la base de datos de ejemplo \"Sales\" que consta de las siguientes tablas:\n",
    "\n",
    "1. **Tabla: Customers**\n",
    "   - Columnas: CustomerID, FirstName, LastName, Email\n",
    "\n",
    "\n",
    "2. **Tabla: Orders**\n",
    "   - Columnas: OrderID, CustomerID, OrderDate, TotalAmount\n",
    "\n",
    "\n",
    "3. **Tabla: OrderItems**\n",
    "   - Columnas: OrderItemID, OrderID, ProductName, Quantity, Price\n",
    "   \n",
    "\n",
    "\n",
    "\n",
    "**Nota - Crea la BBDD desde el archivo \"data_2.sql\"**\n",
    "\n",
    "\n",
    "\n"
   ]
  },
  {
   "cell_type": "markdown",
   "metadata": {},
   "source": [
    "**Ejercicios:**\n",
    "\n",
    "**1. Total de ventas por cliente:**\n",
    "Obtén una lista de clientes con su nombre completo y el total de ventas realizadas por cada uno. Ordena los resultados en orden descendente por el total de ventas.\n"
   ]
  },
  {
   "cell_type": "code",
   "execution_count": null,
   "metadata": {
    "vscode": {
     "languageId": "sql"
    }
   },
   "outputs": [],
   "source": []
  },
  {
   "cell_type": "markdown",
   "metadata": {},
   "source": [
    "**2. Productos más vendidos:**\n",
    "Encuentra los 3 productos más vendidos en términos de cantidad total vendida. Muestra el nombre del producto y la cantidad total vendida."
   ]
  },
  {
   "cell_type": "code",
   "execution_count": null,
   "metadata": {
    "vscode": {
     "languageId": "sql"
    }
   },
   "outputs": [],
   "source": []
  },
  {
   "cell_type": "markdown",
   "metadata": {},
   "source": [
    "**3. Clientes leales:**\n",
    "Identifica a los clientes que han realizado al menos 3 pedidos y muestra su nombre completo y la cantidad de pedidos que han realizado."
   ]
  },
  {
   "cell_type": "code",
   "execution_count": null,
   "metadata": {
    "vscode": {
     "languageId": "sql"
    }
   },
   "outputs": [],
   "source": []
  },
  {
   "cell_type": "markdown",
   "metadata": {},
   "source": [
    "\n",
    "**4. Meses más ocupados:**\n",
    "Encuentra los tres meses con más pedidos realizados. Muestra el nombre del mes y la cantidad de pedidos en orden descendente."
   ]
  },
  {
   "cell_type": "code",
   "execution_count": null,
   "metadata": {
    "vscode": {
     "languageId": "sql"
    }
   },
   "outputs": [],
   "source": []
  },
  {
   "cell_type": "markdown",
   "metadata": {},
   "source": [
    "\n",
    "**5. Valor promedio de pedido:**\n",
    "Calcula el valor promedio de los pedidos en la base de datos."
   ]
  },
  {
   "cell_type": "code",
   "execution_count": null,
   "metadata": {
    "vscode": {
     "languageId": "sql"
    }
   },
   "outputs": [],
   "source": []
  }
 ],
 "metadata": {
  "kernelspec": {
   "display_name": "Python 3",
   "language": "python",
   "name": "python3"
  },
  "language_info": {
   "codemirror_mode": {
    "name": "ipython",
    "version": 3
   },
   "file_extension": ".py",
   "mimetype": "text/x-python",
   "name": "python",
   "nbconvert_exporter": "python",
   "pygments_lexer": "ipython3",
   "version": "3.11.1"
  },
  "orig_nbformat": 4
 },
 "nbformat": 4,
 "nbformat_minor": 2
}
