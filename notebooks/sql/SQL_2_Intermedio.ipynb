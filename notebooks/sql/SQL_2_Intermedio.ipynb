{
 "cells": [
  {
   "cell_type": "markdown",
   "metadata": {},
   "source": [
    "## Prueba Técnica de SQL \n",
    "### Nivel intermedio\n",
    "#### Data Engineer Junior\n",
    "---\n",
    "\n",
    "**Instrucciones:** Escribe consultas SQL para resolver los siguientes escenarios utilizando la base de datos de ejemplo \"Sales\" que consta de las siguientes tablas:\n",
    "\n",
    "1. **Tabla: Customers**\n",
    "   - Columnas: CustomerID, FirstName, LastName, Email\n",
    "\n",
    "\n",
    "2. **Tabla: Orders**\n",
    "   - Columnas: OrderID, CustomerID, OrderDate, TotalAmount\n",
    "\n",
    "\n",
    "3. **Tabla: OrderItems**\n",
    "   - Columnas: OrderItemID, OrderID, ProductName, Quantity, Price\n",
    "   \n",
    "\n",
    "\n",
    "\n",
    "**Crea la BBDD y rellena los datos:**\n",
    "\n",
    "\n",
    "\n"
   ]
  },
  {
   "cell_type": "code",
   "execution_count": null,
   "metadata": {
    "vscode": {
     "languageId": "sql"
    }
   },
   "outputs": [],
   "source": [
    "-- CREO LA BBDD Sales\n",
    "CREATE DATABASE IF NOT EXISTS Sales;\n",
    "USE Sales;\n",
    "\n",
    "-- ELIMINA LAS TABLAS SI EXISTEN PARA EVITAR ERRORES\n",
    "DROP TABLE IF EXISTS OrderItems;\n",
    "DROP TABLE IF EXISTS Orders;\n",
    "DROP TABLE IF EXISTS Customers;\n",
    "\n",
    "-- CREACIÓN DE LAS TRES TABLAS\n",
    "CREATE TABLE Customers (\n",
    "    CustomerID INT PRIMARY KEY,\n",
    "    FirstName VARCHAR(50),\n",
    "    LastName VARCHAR(50),\n",
    "    Email VARCHAR(100)\n",
    ");\n",
    "\n",
    "CREATE TABLE Orders (\n",
    "    OrderID INT PRIMARY KEY,\n",
    "    CustomerID INT,\n",
    "    OrderDate DATE,\n",
    "    TotalAmount DECIMAL(10, 2),\n",
    "    FOREIGN KEY (CustomerID) REFERENCES Customers(CustomerID)\n",
    ");\n",
    "\n",
    "CREATE TABLE OrderItems (\n",
    "    OrderItemID INT PRIMARY KEY,\n",
    "    OrderID INT,\n",
    "    ProductName VARCHAR(100),\n",
    "    Quantity INT,\n",
    "    Price DECIMAL(10, 2),\n",
    "    FOREIGN KEY (OrderID) REFERENCES Orders(OrderID)\n",
    ");"
   ]
  },
  {
   "cell_type": "code",
   "execution_count": null,
   "metadata": {
    "vscode": {
     "languageId": "sql"
    }
   },
   "outputs": [],
   "source": [
    "-- VALORES DUMMIES\n",
    "INSERT INTO Customers (CustomerID, FirstName, LastName, Email)\n",
    "VALUES\n",
    "    (1, 'John', 'Doe', 'john@example.com'),\n",
    "    (2, 'Jane', 'Smith', 'jane@example.com'),\n",
    "    (3, 'Michael', 'Johnson', 'michael@example.com'),\n",
    "    (4, 'Emily', 'Williams', 'emily@example.com'),\n",
    "    (5, 'David', 'Brown', 'david@example.com'),\n",
    "    (6, 'Sarah', 'Jones', 'sarah@example.com'),\n",
    "    (7, 'Daniel', 'Miller', 'daniel@example.com'),\n",
    "    (8, 'Olivia', 'Davis', 'olivia@example.com'),\n",
    "    (9, 'William', 'Wilson', 'william@example.com'),\n",
    "    (10, 'Ava', 'Martinez', 'ava@example.com'),\n",
    "    (11, 'James', 'Taylor', 'james@example.com'),\n",
    "    (12, 'Sophia', 'Anderson', 'sophia@example.com'),\n",
    "    (13, 'Benjamin', 'Thomas', 'benjamin@example.com'),\n",
    "    (14, 'Isabella', 'Hernandez', 'isabella@example.com'),\n",
    "    (15, 'Ethan', 'Lopez', 'ethan@example.com'),\n",
    "    (16, 'Mia', 'Garcia', 'mia@example.com'),\n",
    "    (17, 'Alexander', 'Lee', 'alexander@example.com'),\n",
    "    (18, 'Emma', 'Moore', 'emma@example.com'),\n",
    "    (19, 'Daniel', 'Jackson', 'daniel@example.com'),\n",
    "    (20, 'Aiden', 'White', 'aiden@example.com');\n",
    "\n",
    "INSERT INTO Orders (OrderID, CustomerID, OrderDate, TotalAmount)\n",
    "VALUES\n",
    "    (1, 12, '2023-01-15', 170.00),\n",
    "    (2, 6, '2023-02-08', 480.00),\n",
    "    (3, 8, '2023-03-20', 300.00),\n",
    "    (4, 4, '2023-04-05', 280.00),\n",
    "    (5, 16, '2023-05-10', 270.00),\n",
    "    (6, 9, '2023-06-18', 180.00),\n",
    "    (7, 1, '2023-07-25', 380.00),\n",
    "    (8, 10, '2023-08-03', 125.00),\n",
    "    (9, 14, '2023-09-12', 340.00),\n",
    "    (10, 11, '2023-10-28', 230.00),\n",
    "    (11, 18, '2023-11-09', 180.00),\n",
    "    (12, 17, '2023-12-15', 380.00),\n",
    "    (13, 5, '2023-01-22', 125.00),\n",
    "    (14, 15, '2023-02-11', 220.00),\n",
    "    (15, 3, '2023-03-05', 380.00),\n",
    "    (16, 2, '2023-04-19', 180.00),\n",
    "    (17, 20, '2023-05-08', 380.00),\n",
    "    (18, 7, '2023-06-30', 125.00),\n",
    "    (19, 13, '2023-07-14', 340.00),\n",
    "    (20, 19, '2023-08-27', 230.00),\n",
    "    (21, 11, '2023-09-03', 180.00),\n",
    "    (22, 14, '2023-10-16', 380.00),\n",
    "    (23, 10, '2023-11-29', 125.00),\n",
    "    (24, 16, '2023-12-08', 220.00),\n",
    "    (25, 7, '2023-01-05', 380.00),\n",
    "    (26, 5, '2023-02-21', 380.00),\n",
    "    (27, 13, '2023-03-14', 125.00),\n",
    "    (28, 3, '2023-04-30', 340.00),\n",
    "    (29, 17, '2023-05-19', 230.00),\n",
    "    (30, 9, '2023-06-22', 180.00),\n",
    "    (31, 12, '2023-07-11', 360.00),\n",
    "    (32, 15, '2023-08-07', 125.00),\n",
    "    (33, 2, '2023-09-28', 340.00),\n",
    "    (34, 18, '2023-10-09', 230.00),\n",
    "    (35, 7, '2023-11-25', 180.00),\n",
    "    (36, 4, '2023-12-17', 380.00),\n",
    "    (37, 19, '2023-01-14', 125.00),\n",
    "    (38, 10, '2023-02-06', 340.00),\n",
    "    (39, 8, '2023-03-08', 230.00),\n",
    "    (40, 20, '2023-04-02', 180.00),\n",
    "    (41, 6, '2023-05-11', 380.00),\n",
    "    (42, 1, '2023-06-19', 125.00),\n",
    "    (43, 16, '2023-07-24', 340.00),\n",
    "    (44, 14, '2023-08-13', 230.00),\n",
    "    (45, 12, '2023-09-09', 180.00),\n",
    "    (46, 3, '2023-10-04', 380.00),\n",
    "    (47, 11, '2023-11-01', 125.00),\n",
    "    (48, 9, '2023-12-18', 340.00),\n",
    "    (49, 5, '2023-01-22', 230.00),\n",
    "    (50, 8, '2023-02-12', 180.00);\n",
    "\n",
    "INSERT INTO OrderItems (OrderItemID, OrderID, ProductName, Quantity, Price)\n",
    "VALUES\n",
    "    (1, 1, 'Laptop', 2, 75.00),\n",
    "    (2, 1, 'Wireless Mouse', 1, 20.00),\n",
    "    (3, 2, 'Printer', 3, 150.00),\n",
    "    (4, 2, 'Keyboard', 1, 30.00),\n",
    "    (5, 3, 'Headphones', 2, 50.00),\n",
    "    (6, 3, 'Monitor', 1, 200.00),\n",
    "    (7, 4, 'Tablet', 2, 100.00),\n",
    "    (8, 4, 'External Hard Drive', 1, 80.00),\n",
    "    (9, 5, 'Smartphone', 1, 150.00),\n",
    "    (10, 5, 'Digital Camera', 1, 120.00),\n",
    "    (11, 6, 'Printer', 1, 150.00),\n",
    "    (12, 6, 'Keyboard', 1, 30.00),\n",
    "    (13, 7, 'Wireless Mouse', 1, 20.00),\n",
    "    (14, 7, '27-inch Monitor', 2, 180.00),\n",
    "    (15, 8, 'Laptop', 1, 75.00),\n",
    "    (16, 8, 'Bluetooth Headphones', 1, 50.00),\n",
    "    (17, 9, 'Tablet', 1, 100.00),\n",
    "    (18, 9, 'Digital Camera', 2, 120.00),\n",
    "    (19, 10, 'Smartphone', 1, 150.00),\n",
    "    (20, 10, 'External Hard Drive', 1, 80.00),\n",
    "    (21, 11, 'Printer', 1, 150.00),\n",
    "    (22, 11, 'Keyboard', 1, 30.00),\n",
    "    (23, 12, 'Wireless Mouse', 1, 20.00),\n",
    "    (24, 12, '27-inch Monitor', 2, 180.00),\n",
    "    (25, 13, 'Laptop', 1, 75.00),\n",
    "    (26, 13, 'Bluetooth Headphones', 1, 50.00),\n",
    "    (27, 14, 'Tablet', 1, 100.00),\n",
    "    (28, 14, 'Digital Camera', 1, 120.00),\n",
    "    (29, 15, 'Smartphone', 2, 150.00),\n",
    "    (30, 15, 'External Hard Drive', 1, 80.00),\n",
    "    (31, 16, 'Printer', 1, 150.00),\n",
    "    (32, 16, 'Keyboard', 1, 30.00),\n",
    "    (33, 17, 'Wireless Mouse', 1, 20.00),\n",
    "    (34, 17, '27-inch Monitor', 2, 180.00),\n",
    "    (35, 18, 'Laptop', 1, 75.00),\n",
    "    (36, 18, 'Bluetooth Headphones', 1, 50.00),\n",
    "    (37, 19, 'Tablet', 1, 100.00),\n",
    "    (38, 19, 'Digital Camera', 2, 120.00),\n",
    "    (39, 20, 'Smartphone', 1, 150.00),\n",
    "    (40, 20, 'External Hard Drive', 1, 80.00),\n",
    "    (41, 21, 'Printer', 1, 150.00),\n",
    "    (42, 21, 'Keyboard', 1, 30.00),\n",
    "    (43, 22, 'Wireless Mouse', 1, 20.00),\n",
    "    (44, 22, '27-inch Monitor', 2, 180.00),\n",
    "    (45, 23, 'Laptop', 1, 75.00),\n",
    "    (46, 23, 'Bluetooth Headphones', 1, 50.00),\n",
    "    (47, 24, 'Tablet', 1, 100.00),\n",
    "    (48, 24, 'Digital Camera', 1, 120.00),\n",
    "    (49, 25, 'Smartphone', 2, 150.00),\n",
    "    (50, 25, 'External Hard Drive', 1, 80.00),\n",
    "    (51, 26, 'Wireless Mouse', 1, 20.00),\n",
    "    (52, 26, '27-inch Monitor', 2, 180.00),\n",
    "    (53, 27, 'Laptop', 1, 75.00),\n",
    "    (54, 27, 'Bluetooth Headphones', 1, 50.00),\n",
    "    (55, 28, 'Tablet', 1, 100.00),\n",
    "    (56, 28, 'Digital Camera', 2, 120.00),\n",
    "    (57, 29, 'Smartphone', 1, 150.00),\n",
    "    (58, 29, 'External Hard Drive', 1, 80.00),\n",
    "    (59, 30, 'Printer', 1, 150.00),\n",
    "    (60, 30, 'Keyboard', 1, 30.00),\n",
    "    (61, 31, 'Wireless Mouse', 1, 20.00),\n",
    "    (62, 31, '27-inch Monitor', 2, 170.00),\n",
    "    (63, 32, 'Laptop', 1, 75.00),\n",
    "    (64, 32, 'Bluetooth Headphones', 1, 50.00),\n",
    "    (65, 33, 'Tablet', 1, 100.00),\n",
    "    (66, 33, 'Digital Camera', 2, 120.00),\n",
    "    (67, 34, 'Smartphone', 1, 150.00),\n",
    "    (68, 34, 'External Hard Drive', 1, 80.00),\n",
    "    (69, 35, 'Printer', 1, 150.00),\n",
    "    (70, 35, 'Keyboard', 1, 30.00),\n",
    "    (71, 36, 'Wireless Mouse', 1, 20.00),\n",
    "    (72, 36, '27-inch Monitor', 2, 180.00),\n",
    "    (73, 37, 'Laptop', 1, 75.00),\n",
    "    (74, 37, 'Bluetooth Headphones', 1, 50.00),\n",
    "    (75, 38, 'Tablet', 1, 100.00),\n",
    "    (76, 38, 'Digital Camera', 2, 120.00),\n",
    "    (77, 39, 'Smartphone', 1, 150.00),\n",
    "    (78, 39, 'External Hard Drive', 1, 80.00),\n",
    "    (79, 40, 'Printer', 1, 150.00),\n",
    "    (80, 40, 'Keyboard', 1, 30.00),\n",
    "    (81, 41, 'Wireless Mouse', 1, 20.00),\n",
    "    (82, 41, '27-inch Monitor', 2, 180.00),\n",
    "    (83, 42, 'Laptop', 1, 75.00),\n",
    "    (84, 42, 'Bluetooth Headphones', 1, 50.00),\n",
    "    (85, 43, 'Tablet', 1, 100.00),\n",
    "    (86, 43, 'Digital Camera', 2, 120.00),\n",
    "    (87, 44, 'Smartphone', 1, 150.00),\n",
    "    (88, 44, 'External Hard Drive', 1, 80.00),\n",
    "    (89, 45, 'Printer', 1, 150.00),\n",
    "    (90, 45, 'Keyboard', 1, 30.00),\n",
    "    (91, 46, 'Wireless Mouse', 1, 20.00),\n",
    "    (92, 46, '27-inch Monitor', 2, 180.00),\n",
    "    (93, 47, 'Laptop', 1, 75.00),\n",
    "    (94, 47, 'Bluetooth Headphones', 1, 50.00),\n",
    "    (95, 48, 'Tablet', 1, 100.00),\n",
    "    (96, 48, 'Digital Camera', 2, 120.00),\n",
    "    (97, 49, 'Smartphone', 1, 150.00),\n",
    "    (98, 49, 'External Hard Drive', 1, 80.00),\n",
    "    (99, 50, 'Printer', 1, 150.00),\n",
    "    (100, 50, 'Keyboard', 1, 30.00);"
   ]
  },
  {
   "cell_type": "markdown",
   "metadata": {},
   "source": [
    "**Ejercicios:**\n",
    "\n",
    "**1. Total de ventas por cliente:**\n",
    "Obtén una lista de clientes con su nombre completo y el total de ventas realizadas por cada uno. Ordena los resultados en orden descendente por el total de ventas.\n"
   ]
  },
  {
   "cell_type": "code",
   "execution_count": null,
   "metadata": {
    "vscode": {
     "languageId": "sql"
    }
   },
   "outputs": [],
   "source": []
  },
  {
   "cell_type": "markdown",
   "metadata": {},
   "source": [
    "**2. Productos más vendidos:**\n",
    "Encuentra los 3 productos más vendidos en términos de cantidad total vendida. Muestra el nombre del producto y la cantidad total vendida."
   ]
  },
  {
   "cell_type": "code",
   "execution_count": null,
   "metadata": {
    "vscode": {
     "languageId": "sql"
    }
   },
   "outputs": [],
   "source": []
  },
  {
   "cell_type": "markdown",
   "metadata": {},
   "source": [
    "**3. Clientes leales:**\n",
    "Identifica a los clientes que han realizado al menos 3 pedidos y muestra su nombre completo y la cantidad de pedidos que han realizado."
   ]
  },
  {
   "cell_type": "code",
   "execution_count": null,
   "metadata": {
    "vscode": {
     "languageId": "sql"
    }
   },
   "outputs": [],
   "source": []
  },
  {
   "cell_type": "markdown",
   "metadata": {},
   "source": [
    "\n",
    "**4. Meses más ocupados:**\n",
    "Encuentra los tres meses con más pedidos realizados. Muestra el nombre del mes y la cantidad de pedidos en orden descendente."
   ]
  },
  {
   "cell_type": "code",
   "execution_count": null,
   "metadata": {
    "vscode": {
     "languageId": "sql"
    }
   },
   "outputs": [],
   "source": []
  },
  {
   "cell_type": "markdown",
   "metadata": {},
   "source": [
    "\n",
    "**5. Valor promedio de pedido:**\n",
    "Calcula el valor promedio de los pedidos en la base de datos."
   ]
  },
  {
   "cell_type": "code",
   "execution_count": null,
   "metadata": {
    "vscode": {
     "languageId": "sql"
    }
   },
   "outputs": [],
   "source": []
  }
 ],
 "metadata": {
  "kernelspec": {
   "display_name": "Python 3",
   "language": "python",
   "name": "python3"
  },
  "language_info": {
   "codemirror_mode": {
    "name": "ipython",
    "version": 3
   },
   "file_extension": ".py",
   "mimetype": "text/x-python",
   "name": "python",
   "nbconvert_exporter": "python",
   "pygments_lexer": "ipython3",
   "version": "3.11.1"
  },
  "orig_nbformat": 4
 },
 "nbformat": 4,
 "nbformat_minor": 2
}
