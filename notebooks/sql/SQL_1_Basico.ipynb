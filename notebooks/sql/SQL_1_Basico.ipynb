{
 "cells": [
  {
   "cell_type": "markdown",
   "metadata": {},
   "source": [
    "## Prueba Técnica de SQL \n",
    "### Nivel Básico\n",
    "#### Data Engineer Junior\n",
    "---\n",
    "\n",
    "**Instrucciones:** Escribe consultas SQL para resolver los siguientes escenarios. Utiliza la base de datos de ejemplo \"Employees\" que consta de las siguientes tablas:\n",
    "\n",
    "1. **Tabla: Employees**\n",
    "   - Columnas: EmployeeID, FirstName, LastName, DepartmentID, Salary\n",
    "\n",
    "2. **Tabla: Departments**\n",
    "   - Columnas: DepartmentID, DepartmentName\n",
    "\n",
    "\n",
    "   \n",
    "\n",
    "**Nota - Crea la BBDD desde el archivo \"data_1.sql\"**"
   ]
  },
  {
   "cell_type": "markdown",
   "metadata": {},
   "source": [
    "**Ejercicios:**\n",
    "\n",
    "**1. Listar todos los empleados:**\n",
    "\n",
    "Escribe una consulta que muestre el ID, nombre completo y nombre del departamento de todos los empleados.\n",
    "\n"
   ]
  },
  {
   "cell_type": "code",
   "execution_count": null,
   "metadata": {
    "vscode": {
     "languageId": "sql"
    }
   },
   "outputs": [],
   "source": []
  },
  {
   "cell_type": "markdown",
   "metadata": {},
   "source": [
    "**2. Contar empleados por departamento:**\n",
    "\n",
    "Obtén una lista de departamentos con la cantidad de empleados en cada uno. Incluye el nombre del departamento y el número de empleados."
   ]
  },
  {
   "cell_type": "code",
   "execution_count": null,
   "metadata": {
    "vscode": {
     "languageId": "sql"
    }
   },
   "outputs": [],
   "source": []
  },
  {
   "cell_type": "markdown",
   "metadata": {},
   "source": [
    "**3. Empleados sin departamento asignado:**\n",
    "\n",
    "Encuentra los empleados que no tienen un departamento asignado. Muestra sus nombres completos."
   ]
  },
  {
   "cell_type": "code",
   "execution_count": null,
   "metadata": {
    "vscode": {
     "languageId": "sql"
    }
   },
   "outputs": [],
   "source": []
  },
  {
   "cell_type": "markdown",
   "metadata": {},
   "source": [
    "**4. Actualización de salario:**\n",
    "\n",
    "Incrementa el salario de todos los empleados en el departamento \"Sales\" en un 10%, y en \"Customer Service\" un 2,5%\n"
   ]
  },
  {
   "cell_type": "code",
   "execution_count": null,
   "metadata": {
    "vscode": {
     "languageId": "sql"
    }
   },
   "outputs": [],
   "source": []
  },
  {
   "cell_type": "markdown",
   "metadata": {},
   "source": [
    "**5. Empleados con el salario más alto:**\n",
    "\n",
    "Encuentra el nombre completo y el salario del empleado con el salario más alto en cada departamento.\n"
   ]
  },
  {
   "cell_type": "code",
   "execution_count": null,
   "metadata": {
    "vscode": {
     "languageId": "sql"
    }
   },
   "outputs": [],
   "source": []
  }
 ],
 "metadata": {
  "kernelspec": {
   "display_name": "Python 3",
   "language": "python",
   "name": "python3"
  },
  "language_info": {
   "codemirror_mode": {
    "name": "ipython",
    "version": 3
   },
   "file_extension": ".py",
   "mimetype": "text/x-python",
   "name": "python",
   "nbconvert_exporter": "python",
   "pygments_lexer": "ipython3",
   "version": "3.11.1"
  },
  "orig_nbformat": 4
 },
 "nbformat": 4,
 "nbformat_minor": 2
}
