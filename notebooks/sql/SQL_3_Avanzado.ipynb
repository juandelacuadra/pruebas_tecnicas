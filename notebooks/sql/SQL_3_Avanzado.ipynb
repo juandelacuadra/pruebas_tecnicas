{
 "cells": [
  {
   "cell_type": "markdown",
   "metadata": {},
   "source": [
    "## Prueba Técnica de SQL \n",
    "### Nivel avanzado\n",
    "#### Data Engineer Junior\n",
    "---\n",
    "\n",
    "**Instrucciones:** Esta prueba consta de 5 ejercicios que evalúan tus habilidades en consultas SQL más avanzadas y la capacidad para resolver problemas complejos relacionados con bases de datos. \n",
    "Debes completar cada ejercicio proporcionando la consulta SQL adecuada.\n",
    "\n",
    "1. **Tabla: Customers**\n",
    "   - Columnas: CustomerID (int), FirstName (varchar), LastName (varchar), RegistrationDate (date)\n",
    "\n",
    "2. **Tabla: Orders**\n",
    "   - Columnas: OrderID (int), CustomerID (int), OrderDate (date), TotalAmount (decimal)\n",
    "\n",
    "3. **Tabla: OrderItems**\n",
    "   - Columnas: OrderItemID (int), OrderID (int), ProductName (varchar), Quantity (int), Price (decimal)\n",
    "\n",
    "   \n",
    "\n",
    "**Nota - Crea la BBDD desde el archivo \"data_3.sql\"**\n",
    "\n",
    "\n"
   ]
  },
  {
   "cell_type": "code",
   "execution_count": 38,
   "metadata": {},
   "outputs": [],
   "source": [
    "import sqlite3\n",
    "\n",
    "conn = sqlite3.connect('database.db')\n",
    "\n",
    "with open('data_sql/data_3.sql', 'r') as sql_file:\n",
    "    sql_commands = sql_file.read()\n",
    "    cursor = conn.cursor()\n",
    "    cursor.executescript(sql_commands)\n"
   ]
  },
  {
   "cell_type": "code",
   "execution_count": 39,
   "metadata": {},
   "outputs": [
    {
     "ename": "OperationalError",
     "evalue": "no such function: YEAR",
     "output_type": "error",
     "traceback": [
      "\u001b[1;31m---------------------------------------------------------------------------\u001b[0m",
      "\u001b[1;31mOperationalError\u001b[0m                          Traceback (most recent call last)",
      "Cell \u001b[1;32mIn[39], line 22\u001b[0m\n\u001b[0;32m     10\u001b[0m \u001b[39m# Consulta original sin cambios\u001b[39;00m\n\u001b[0;32m     11\u001b[0m query \u001b[39m=\u001b[39m \u001b[39m\"\"\"\u001b[39m\n\u001b[0;32m     12\u001b[0m \u001b[39mSELECT\u001b[39m\n\u001b[0;32m     13\u001b[0m \u001b[39m    YEAR(OrderDate) AS `Year`,\u001b[39m\n\u001b[1;32m   (...)\u001b[0m\n\u001b[0;32m     19\u001b[0m \u001b[39m    `Year`, `Month`\u001b[39m\n\u001b[0;32m     20\u001b[0m \u001b[39m\"\"\"\u001b[39m\n\u001b[1;32m---> 22\u001b[0m cursor\u001b[39m.\u001b[39;49mexecute(query)\n\u001b[0;32m     23\u001b[0m rows \u001b[39m=\u001b[39m cursor\u001b[39m.\u001b[39mfetchall()\n\u001b[0;32m     24\u001b[0m \u001b[39mfor\u001b[39;00m row \u001b[39min\u001b[39;00m rows:\n",
      "\u001b[1;31mOperationalError\u001b[0m: no such function: YEAR"
     ]
    }
   ],
   "source": [
    "import sqlite3\n",
    "\n",
    "conn = sqlite3.connect('database.db')\n",
    "\n",
    "with open('data_sql/data_3.sql', 'r') as sql_file:\n",
    "    sql_commands = sql_file.read()\n",
    "    cursor = conn.cursor()\n",
    "    cursor.executescript(sql_commands)\n",
    "\n",
    "# Consulta original sin cambios\n",
    "query = \"\"\"\n",
    "SELECT\n",
    "    YEAR(OrderDate) AS `Year`,\n",
    "    STRFTIME('%m', OrderDate) AS `Month`,\n",
    "    SUM(TotalAmount) AS Gross_Sales\n",
    "FROM\n",
    "    orders\n",
    "GROUP BY\n",
    "    `Year`, `Month`\n",
    "\"\"\"\n",
    "\n",
    "cursor.execute(query)\n",
    "rows = cursor.fetchall()\n",
    "for row in rows:\n",
    "    print(row)\n",
    "\n",
    "# Cerrar la conexión\n",
    "cursor.close()\n",
    "conn.close()\n"
   ]
  },
  {
   "cell_type": "markdown",
   "metadata": {},
   "source": [
    "**Ejercicios:**\n",
    "\n",
    "**1. Ventas Trimestrales:**\n",
    "\n",
    "Obtén las ventas totales por trimestre del año, mostrando el trimestre y la cantidad total vendida en ese período."
   ]
  },
  {
   "cell_type": "code",
   "execution_count": 36,
   "metadata": {},
   "outputs": [],
   "source": [
    "query = \"\"\"\n",
    "SELECT\n",
    "\tYEAR(OrderDate) AS `Year`,\n",
    "\tQUARTER(OrderDate) AS `Quarter`,\n",
    "\tSUM(TotalAmount) AS Gross_Sales\n",
    "FROM\n",
    "\torders\n",
    "GROUP BY\n",
    "\t1, 2\n",
    "\"\"\""
   ]
  },
  {
   "cell_type": "code",
   "execution_count": 37,
   "metadata": {},
   "outputs": [
    {
     "ename": "OperationalError",
     "evalue": "no such function: YEAR",
     "output_type": "error",
     "traceback": [
      "\u001b[1;31m---------------------------------------------------------------------------\u001b[0m",
      "\u001b[1;31mOperationalError\u001b[0m                          Traceback (most recent call last)",
      "Cell \u001b[1;32mIn[37], line 1\u001b[0m\n\u001b[1;32m----> 1\u001b[0m cursor\u001b[39m.\u001b[39;49mexecute(query)\n\u001b[0;32m      2\u001b[0m rows \u001b[39m=\u001b[39m cursor\u001b[39m.\u001b[39mfetchall()\n\u001b[0;32m      3\u001b[0m \u001b[39mfor\u001b[39;00m row \u001b[39min\u001b[39;00m rows:\n",
      "\u001b[1;31mOperationalError\u001b[0m: no such function: YEAR"
     ]
    }
   ],
   "source": [
    "cursor.execute(query)\n",
    "rows = cursor.fetchall()\n",
    "for row in rows:\n",
    "    print(row)"
   ]
  },
  {
   "cell_type": "markdown",
   "metadata": {},
   "source": [
    "**2.  Análisis de Recurrencia:**\n",
    "\n",
    "Determina el porcentaje de clientes que han realizado pedidos en más de un trimestre en un año determinado. Considera solo a los clientes que realizaron al menos un pedido en ese año. Muestra el porcentaje como un valor decimal entre 0 y 1."
   ]
  },
  {
   "cell_type": "code",
   "execution_count": null,
   "metadata": {
    "vscode": {
     "languageId": "sql"
    }
   },
   "outputs": [],
   "source": []
  },
  {
   "cell_type": "markdown",
   "metadata": {},
   "source": [
    "**3. Clientes leales:**\n",
    "\n",
    "Identifica a los clientes leales, definidos como aquellos que han realizado al menos un pedido en cada año desde su fecha de registro hasta el año actual. Muestra el nombre completo del cliente y los años en los que cumplieron con este criterio."
   ]
  },
  {
   "cell_type": "code",
   "execution_count": null,
   "metadata": {
    "vscode": {
     "languageId": "sql"
    }
   },
   "outputs": [],
   "source": []
  },
  {
   "cell_type": "markdown",
   "metadata": {},
   "source": [
    "\n",
    "**4. Clientes Leales II:**\n",
    "\n",
    "Encuentra los clientes que han realizado al menos un pedido en cada mes del último semestre completo (es decir, cada mes desde hace 6 meses hasta el presente). Muestra el nombre completo del cliente y el año y mes en que cumplieron este criterio."
   ]
  },
  {
   "cell_type": "code",
   "execution_count": null,
   "metadata": {
    "vscode": {
     "languageId": "sql"
    }
   },
   "outputs": [],
   "source": []
  },
  {
   "cell_type": "markdown",
   "metadata": {},
   "source": [
    "\n",
    "**5. Compras Cruzadas:**\n",
    "\n",
    "Encuentra los pares de productos que se compran juntos con mayor frecuencia en el mismo pedido. Muestra los nombres de los dos productos y la cantidad de veces que aparecen juntos en un pedido."
   ]
  },
  {
   "cell_type": "code",
   "execution_count": null,
   "metadata": {
    "vscode": {
     "languageId": "sql"
    }
   },
   "outputs": [],
   "source": []
  }
 ],
 "metadata": {
  "kernelspec": {
   "display_name": "Python 3",
   "language": "python",
   "name": "python3"
  },
  "language_info": {
   "codemirror_mode": {
    "name": "ipython",
    "version": 3
   },
   "file_extension": ".py",
   "mimetype": "text/x-python",
   "name": "python",
   "nbconvert_exporter": "python",
   "pygments_lexer": "ipython3",
   "version": "3.11.1"
  },
  "orig_nbformat": 4
 },
 "nbformat": 4,
 "nbformat_minor": 2
}
