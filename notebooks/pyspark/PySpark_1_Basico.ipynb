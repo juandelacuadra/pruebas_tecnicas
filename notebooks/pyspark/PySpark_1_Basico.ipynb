{
 "cells": [
  {
   "cell_type": "markdown",
   "metadata": {},
   "source": [
    "## Prueba Técnica de PySpark\n",
    "### Nivel Básico\n",
    "#### Data Engineer Junior\n",
    "---\n",
    "\n",
    "**Instrucciones:** Escribe código utilizando PySpark para resolver los siguientes escenarios. Utiliza los conjuntos de datos de ejemplo proporcionados y consulta los datos según se indique.\n",
    "\n",
    "Conjuntos de datos de ejemplo:\n",
    "\n",
    "1. `sales_df` - Contiene información sobre ventas.\n",
    "   - Columnas: `SaleID`, `ProductID`, `Quantity`, `Price`\n",
    "2. `products_df` - Contiene información sobre productos.\n",
    "   - Columnas: `ProductID`, `ProductName`, `CategoryID`\n",
    "3. `categories_df` - Contiene información sobre categorías de productos.\n",
    "   - Columnas: `CategoryID`, `CategoryName`"
   ]
  },
  {
   "cell_type": "code",
   "execution_count": 56,
   "metadata": {},
   "outputs": [
    {
     "data": {
      "text/html": [
       "\n",
       "            <div>\n",
       "                <p><b>SparkSession - in-memory</b></p>\n",
       "                \n",
       "        <div>\n",
       "            <p><b>SparkContext</b></p>\n",
       "\n",
       "            <p><a href=\"http://VDF0023.sevilla.ind.local:4040\">Spark UI</a></p>\n",
       "\n",
       "            <dl>\n",
       "              <dt>Version</dt>\n",
       "                <dd><code>v3.4.1</code></dd>\n",
       "              <dt>Master</dt>\n",
       "                <dd><code>local[*]</code></dd>\n",
       "              <dt>AppName</dt>\n",
       "                <dd><code>Prueba</code></dd>\n",
       "            </dl>\n",
       "        </div>\n",
       "        \n",
       "            </div>\n",
       "        "
      ],
      "text/plain": [
       "<pyspark.sql.session.SparkSession at 0x2044312dbd0>"
      ]
     },
     "execution_count": 56,
     "metadata": {},
     "output_type": "execute_result"
    }
   ],
   "source": [
    "# CREO LA SESIÓN\n",
    "import pyspark\n",
    "from pyspark.sql import SparkSession\n",
    "from pyspark.sql.functions import avg, round, when, col\n",
    "spark = SparkSession.builder.appName('Prueba').getOrCreate()\n",
    "spark"
   ]
  },
  {
   "cell_type": "code",
   "execution_count": 30,
   "metadata": {},
   "outputs": [
    {
     "name": "stdout",
     "output_type": "stream",
     "text": [
      "root\n",
      " |-- ProductID: integer (nullable = true)\n",
      " |-- ProductName: string (nullable = true)\n",
      " |-- CategoryID: integer (nullable = true)\n",
      " |-- UnitPrice: double (nullable = true)\n",
      "\n",
      "root\n",
      " |-- CategoryID: integer (nullable = true)\n",
      " |-- CategoryName: string (nullable = true)\n",
      "\n",
      "root\n",
      " |-- SaleID: integer (nullable = true)\n",
      " |-- ProductID: integer (nullable = true)\n",
      " |-- Quantity: integer (nullable = true)\n",
      " |-- Price: double (nullable = true)\n",
      "\n"
     ]
    }
   ],
   "source": [
    "df_categories = spark.read.csv('data_pyspark/categories.csv', header=True, sep=\";\", inferSchema=True)\n",
    "df_products = spark.read.csv('data_pyspark/products.csv', header=True, sep=\";\", inferSchema=True)\n",
    "df_sales = spark.read.csv('data_pyspark/sales.csv', header=True, sep=\";\", inferSchema=True)\n",
    "\n",
    "# VERIFICO QUE ME HA COGIDO BIEN EL SCHEMA\n",
    "df_products.printSchema()\n",
    "df_categories.printSchema()\n",
    "df_sales.printSchema()"
   ]
  },
  {
   "cell_type": "markdown",
   "metadata": {},
   "source": [
    "**Ejercicios:**\n",
    "\n",
    "**1. Total de ventas por categoría:**\n",
    "\n",
    "Escribe una consulta en PySpark que muestre el nombre de la categoría y el total de ventas (ingresos) en cada categoría."
   ]
  },
  {
   "cell_type": "code",
   "execution_count": 38,
   "metadata": {},
   "outputs": [
    {
     "name": "stdout",
     "output_type": "stream",
     "text": [
      "+------------+----------+\n",
      "|CategoryName|sum(Total)|\n",
      "+------------+----------+\n",
      "| Electronics|   56950.0|\n",
      "|    Clothing|    7250.0|\n",
      "|  Appliances|   42600.0|\n",
      "+------------+----------+\n",
      "\n"
     ]
    }
   ],
   "source": [
    "# EJERCICIO CORREGIDO:\n",
    "df_join = df_products.join(df_categories, ['CategoryID']).join(df_sales, ['ProductID']).withColumn('Total', col('Quantity') * col('UnitPrice')).drop('Price')\n",
    "df_join.groupBy('CategoryName').agg({'Total': 'sum'}).show()"
   ]
  },
  {
   "cell_type": "code",
   "execution_count": 39,
   "metadata": {},
   "outputs": [
    {
     "name": "stdout",
     "output_type": "stream",
     "text": [
      "+---------+----------+-----------+---------+------------+------+--------+------+\n",
      "|ProductID|CategoryID|ProductName|UnitPrice|CategoryName|SaleID|Quantity| Total|\n",
      "+---------+----------+-----------+---------+------------+------+--------+------+\n",
      "|      101|         1|     Laptop|    800.0| Electronics|   117|       5|4000.0|\n",
      "|      101|         1|     Laptop|    800.0| Electronics|   105|       5|4000.0|\n",
      "|      101|         1|     Laptop|    800.0| Electronics|    93|       5|4000.0|\n",
      "|      101|         1|     Laptop|    800.0| Electronics|    81|       5|4000.0|\n",
      "|      101|         1|     Laptop|    800.0| Electronics|    45|       2|1600.0|\n",
      "|      101|         1|     Laptop|    800.0| Electronics|    37|       2|1600.0|\n",
      "|      101|         1|     Laptop|    800.0| Electronics|    24|       2|1600.0|\n",
      "|      101|         1|     Laptop|    800.0| Electronics|    11|       2|1600.0|\n",
      "|      101|         1|     Laptop|    800.0| Electronics|     4|       4|3200.0|\n",
      "|      101|         1|     Laptop|    800.0| Electronics|     1|       5|4000.0|\n",
      "|      102|         1| Smartphone|    600.0| Electronics|   118|       3|1800.0|\n",
      "|      102|         1| Smartphone|    600.0| Electronics|   106|       3|1800.0|\n",
      "|      102|         1| Smartphone|    600.0| Electronics|    94|       3|1800.0|\n",
      "|      102|         1| Smartphone|    600.0| Electronics|    82|       3|1800.0|\n",
      "|      102|         1| Smartphone|    600.0| Electronics|    46|       1| 600.0|\n",
      "|      102|         1| Smartphone|    600.0| Electronics|    43|       3|1800.0|\n",
      "|      102|         1| Smartphone|    600.0| Electronics|    38|       1| 600.0|\n",
      "|      102|         1| Smartphone|    600.0| Electronics|    35|       3|1800.0|\n",
      "|      102|         1| Smartphone|    600.0| Electronics|    28|       4|2400.0|\n",
      "|      102|         1| Smartphone|    600.0| Electronics|    25|       1| 600.0|\n",
      "+---------+----------+-----------+---------+------------+------+--------+------+\n",
      "only showing top 20 rows\n",
      "\n"
     ]
    }
   ],
   "source": [
    "df_join.show()"
   ]
  },
  {
   "cell_type": "markdown",
   "metadata": {},
   "source": [
    "**2. Productos más vendidos:**\n",
    "\n",
    "Encuentra y muestra en un DataFrame los nombres de los productos junto con la cantidad total de cada producto vendido. Ordena los resultados en orden descendente de cantidad."
   ]
  },
  {
   "cell_type": "code",
   "execution_count": 33,
   "metadata": {},
   "outputs": [
    {
     "name": "stdout",
     "output_type": "stream",
     "text": [
      "+---------------+-------------+\n",
      "|    ProductName|sum(Quantity)|\n",
      "+---------------+-------------+\n",
      "|          Shoes|           41|\n",
      "|     Smartphone|           38|\n",
      "|         Laptop|           37|\n",
      "|          Jeans|           35|\n",
      "|             TV|           27|\n",
      "|   Refrigerator|           27|\n",
      "|Washing Machine|           24|\n",
      "|      Microwave|           20|\n",
      "|          Dress|           18|\n",
      "|         Jacket|           16|\n",
      "|     Headphones|            9|\n",
      "|         Tablet|            8|\n",
      "+---------------+-------------+\n",
      "\n"
     ]
    }
   ],
   "source": [
    "df_join.groupBy('ProductName').agg({'Quantity': 'sum'}).orderBy('sum(Quantity)', ascending = False).show()"
   ]
  },
  {
   "cell_type": "markdown",
   "metadata": {},
   "source": [
    "**3. Categorías con mayor precio promedio:**\n",
    "\n",
    "Obtén un DataFrame que muestre el nombre de la categoría y el precio promedio de los productos en cada categoría. Ordena los resultados de mayor a menor precio promedio."
   ]
  },
  {
   "cell_type": "code",
   "execution_count": 34,
   "metadata": {},
   "outputs": [
    {
     "name": "stdout",
     "output_type": "stream",
     "text": [
      "+------------+---------+\n",
      "|CategoryName|avg_Price|\n",
      "+------------+---------+\n",
      "| Electronics|   480.95|\n",
      "|  Appliances|   352.56|\n",
      "|    Clothing|    76.93|\n",
      "+------------+---------+\n",
      "\n"
     ]
    }
   ],
   "source": [
    "df_join.groupBy('CategoryName').agg(round(avg('Price'), 2).alias('avg_Price')).orderBy('avg_Price', ascending=False).show()\n"
   ]
  },
  {
   "cell_type": "markdown",
   "metadata": {},
   "source": [
    "**4. Actualización de descuento:**\n",
    "\n",
    "Aplica un descuento del 15% al precio de todos los productos en la categoría \"Electronics\". Muestra el DataFrame resultante con los cambios.\n"
   ]
  },
  {
   "cell_type": "code",
   "execution_count": 55,
   "metadata": {},
   "outputs": [
    {
     "name": "stdout",
     "output_type": "stream",
     "text": [
      "+----------+---------+---------------+---------+------------+---------------+\n",
      "|CategoryID|ProductID|    ProductName|UnitPrice|CategoryName|DiscountedPrice|\n",
      "+----------+---------+---------------+---------+------------+---------------+\n",
      "|         1|      101|         Laptop|    800.0| Electronics|          680.0|\n",
      "|         1|      102|     Smartphone|    600.0| Electronics|          510.0|\n",
      "|         2|      103|          Jeans|     50.0|    Clothing|           50.0|\n",
      "|         3|      104|             TV|    700.0|  Appliances|          700.0|\n",
      "|         2|      105|          Shoes|     80.0|    Clothing|           80.0|\n",
      "|         3|      106|      Microwave|    150.0|  Appliances|          150.0|\n",
      "|         1|      107|     Headphones|    150.0| Electronics|          127.5|\n",
      "|         2|      108|          Dress|     70.0|    Clothing|           70.0|\n",
      "|         3|      109|   Refrigerator|    500.0|  Appliances|          500.0|\n",
      "|         1|      110|         Tablet|    400.0| Electronics|          340.0|\n",
      "|         2|      111|         Jacket|     60.0|    Clothing|           60.0|\n",
      "|         3|      112|Washing Machine|    300.0|  Appliances|          300.0|\n",
      "+----------+---------+---------------+---------+------------+---------------+\n",
      "\n"
     ]
    }
   ],
   "source": [
    "df_4 = df_products.join(df_categories.select('CategoryName', 'CategoryID'), on='CategoryID')\n",
    "df_4.withColumn(\"DiscountedPrice\",\n",
    "    when(col(\"CategoryName\") == \"Electronics\", col(\"UnitPrice\") * 0.85).otherwise(col(\"UnitPrice\"))\n",
    ").show()\n"
   ]
  },
  {
   "cell_type": "markdown",
   "metadata": {},
   "source": [
    "**5. Ventas por rango de precio:**\n",
    "\n",
    "Encuentra y muestra en un DataFrame el número de ventas y el total de ingresos para diferentes rangos de precio de productos. Divide los rangos de precio en las siguientes categorías: \"Low\" (0-100), \"Medium\" (101-500), y \"High\" (501 y más). Mostrar el número de ventas y el total de ingresos para cada categoría de rango de precio."
   ]
  },
  {
   "cell_type": "code",
   "execution_count": null,
   "metadata": {},
   "outputs": [],
   "source": []
  }
 ],
 "metadata": {
  "kernelspec": {
   "display_name": "Python 3",
   "language": "python",
   "name": "python3"
  },
  "language_info": {
   "codemirror_mode": {
    "name": "ipython",
    "version": 3
   },
   "file_extension": ".py",
   "mimetype": "text/x-python",
   "name": "python",
   "nbconvert_exporter": "python",
   "pygments_lexer": "ipython3",
   "version": "3.11.1"
  },
  "orig_nbformat": 4
 },
 "nbformat": 4,
 "nbformat_minor": 2
}
