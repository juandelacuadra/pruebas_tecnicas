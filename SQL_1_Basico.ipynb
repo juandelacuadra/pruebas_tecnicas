{
 "cells": [
  {
   "cell_type": "markdown",
   "metadata": {},
   "source": [
    "## Prueba Técnica de SQL \n",
    "### Nivel Básico\n",
    "#### Data Engineer Junior\n",
    "---\n",
    "\n",
    "**Instrucciones:** Escribe consultas SQL para resolver los siguientes escenarios. Utiliza la base de datos de ejemplo \"Employees\" que consta de las siguientes tablas:\n",
    "\n",
    "1. **Tabla: Employees**\n",
    "   - Columnas: EmployeeID, FirstName, LastName, DepartmentID, Salary\n",
    "\n",
    "2. **Tabla: Departments**\n",
    "   - Columnas: DepartmentID, DepartmentName"
   ]
  },
  {
   "cell_type": "code",
   "execution_count": null,
   "metadata": {
    "vscode": {
     "languageId": "sql"
    }
   },
   "outputs": [],
   "source": [
    "-- CREO LA BBDD Employees\n",
    "CREATE DATABASE IF NOT EXISTS Employees;\n",
    "USE Employees;\n",
    "\n",
    "-- ELIMINA LAS TABLAS SI EXISTEN PARA EVITAR ERRORES\n",
    "DROP TABLE IF EXISTS Employees;\n",
    "DROP TABLE IF EXISTS Departments;\n",
    "\n",
    "-- CREACIÓN DE LAS DOS TABLAS\n",
    "CREATE TABLE Departments (\n",
    "    DepartmentID INT PRIMARY KEY,\n",
    "    DepartmentName VARCHAR(50)\n",
    ");\n",
    "\n",
    "CREATE TABLE Employees (\n",
    "    EmployeeID INT PRIMARY KEY,\n",
    "    FirstName VARCHAR(50),\n",
    "    LastName VARCHAR(50),\n",
    "    DepartmentID INT,\n",
    "    Salary DECIMAL(10, 2),\n",
    "    FOREIGN KEY (DepartmentID) REFERENCES Departments(DepartmentID)\n",
    ");"
   ]
  },
  {
   "cell_type": "code",
   "execution_count": null,
   "metadata": {
    "vscode": {
     "languageId": "sql"
    }
   },
   "outputs": [],
   "source": [
    "-- VALORES DUMMIES\n",
    "INSERT INTO Departments (DepartmentID, DepartmentName)\n",
    "VALUES\n",
    "    (1, 'HR'),\n",
    "    (2, 'Finance'),\n",
    "    (3, 'IT'),\n",
    "    (4, 'Sales'),\n",
    "    (5, 'Marketing'),\n",
    "    (6, 'Operations'),\n",
    "    (7, 'Research'),\n",
    "    (8, 'Customer Service');\n",
    "\n",
    "INSERT INTO Employees (EmployeeID, FirstName, LastName, DepartmentID, Salary)\n",
    "VALUES\n",
    "    (1, 'John', 'Doe', 6, 37812.49),\n",
    "    (2, 'Jane', 'Smith', 2, 34827.13),\n",
    "    (3, 'Michael', 'Johnson', 7, 40298.89),\n",
    "    (4, 'Emily', 'Williams', 3, 28543.73),\n",
    "    (5, 'David', 'Brown', 5, 29152.06),\n",
    "    (6, 'Sarah', 'Jones', 8, 57833.16),\n",
    "    (7, 'Daniel', 'Miller', 5, 40979.35),\n",
    "    (8, 'Olivia', 'Davis', 4, 50891.27),\n",
    "    (9, 'William', 'Wilson', 2, 48124.88),\n",
    "    (10, 'Ava', 'Martinez', 8, 65013.19),\n",
    "    (11, 'James', 'Taylor', 7, 46025.01),\n",
    "    (12, 'Sophia', 'Anderson', 4, 58642.81),\n",
    "    (13, 'Benjamin', 'Thomas', 6, 55772.59),\n",
    "    (14, 'Isabella', 'Hernandez', 1, 30654.29),\n",
    "    (15, 'Ethan', 'Lopez', 8, 58811.25),\n",
    "    (16, 'Mia', 'Garcia', 7, 53436.27),\n",
    "    (17, 'Alexander', 'Lee', 3, 40394.47),\n",
    "    (18, 'Emma', 'Moore', 2, 41383.83),\n",
    "    (19, 'Daniel', 'Jackson', 8, 61047.56),\n",
    "    (20, 'Aiden', 'White', 1, 30592.99),\n",
    "    (21, 'Oliver', 'Johnson', 3, 42568.41),\n",
    "    (22, 'Sophia', 'Davis', 4, 52872.98),\n",
    "    (23, 'Liam', 'Miller', 5, 28419.73),\n",
    "    (24, 'Emma', 'Williams', 7, 59025.27),\n",
    "    (25, 'Noah', 'Martinez', 1, 46738.67),\n",
    "    (26, 'Olivia', 'Taylor', 2, 34990.08),\n",
    "    (27, 'Liam', 'Wilson', 8, 60927.79),\n",
    "    (28, 'Emma', 'Brown', 5, 42260.54),\n",
    "    (29, 'Noah', 'Smith', 6, 52312.92),\n",
    "    (30, 'Ava', 'Garcia', 7, 47698.31),\n",
    "    (31, 'Sophia', 'Jones', 3, 51890.42),\n",
    "    (32, 'Liam', 'Moore', 4, 45510.78),\n",
    "    (33, 'Isabella', 'Lee', 2, 28264.23),\n",
    "    (34, 'Oliver', 'Hernandez', 1, 44987.60),\n",
    "    (35, 'Emma', 'Thomas', 8, 51963.95),\n",
    "    (36, 'Noah', 'Jackson', 5, 52342.17),\n",
    "    (37, 'Olivia', 'Johnson', 6, 37051.84),\n",
    "    (38, 'Sophia', 'Smith', 7, 55308.70),\n",
    "    (39, 'Lucas', 'Jones', 3, 31165.80),\n",
    "    (40, 'Sophia', 'Garcia', 6, 39315.24);\n",
    "\n"
   ]
  },
  {
   "cell_type": "markdown",
   "metadata": {},
   "source": [
    "**Ejercicios:**\n",
    "\n",
    "**1. Listar todos los empleados:**\n",
    "\n",
    "Escribe una consulta que muestre el ID, nombre completo y nombre del departamento de todos los empleados.\n",
    "\n"
   ]
  },
  {
   "cell_type": "code",
   "execution_count": null,
   "metadata": {
    "vscode": {
     "languageId": "sql"
    }
   },
   "outputs": [],
   "source": []
  },
  {
   "cell_type": "markdown",
   "metadata": {},
   "source": [
    "**2. Contar empleados por departamento:**\n",
    "\n",
    "Obtén una lista de departamentos con la cantidad de empleados en cada uno. Incluye el nombre del departamento y el número de empleados."
   ]
  },
  {
   "cell_type": "code",
   "execution_count": null,
   "metadata": {
    "vscode": {
     "languageId": "sql"
    }
   },
   "outputs": [],
   "source": []
  },
  {
   "cell_type": "markdown",
   "metadata": {},
   "source": [
    "**3. Empleados sin departamento asignado:**\n",
    "\n",
    "Encuentra los empleados que no tienen un departamento asignado. Muestra sus nombres completos."
   ]
  },
  {
   "cell_type": "code",
   "execution_count": null,
   "metadata": {
    "vscode": {
     "languageId": "sql"
    }
   },
   "outputs": [],
   "source": []
  },
  {
   "cell_type": "markdown",
   "metadata": {},
   "source": [
    "**4. Actualización de salario:**\n",
    "\n",
    "Incrementa el salario de todos los empleados en el departamento \"Sales\" en un 10%, y en \"Customer Service\" un 2,5%\n"
   ]
  },
  {
   "cell_type": "code",
   "execution_count": null,
   "metadata": {
    "vscode": {
     "languageId": "sql"
    }
   },
   "outputs": [],
   "source": []
  },
  {
   "cell_type": "markdown",
   "metadata": {},
   "source": [
    "**5. Empleados con el salario más alto:**\n",
    "\n",
    "Encuentra el nombre completo y el salario del empleado con el salario más alto en cada departamento.\n"
   ]
  },
  {
   "cell_type": "code",
   "execution_count": null,
   "metadata": {
    "vscode": {
     "languageId": "sql"
    }
   },
   "outputs": [],
   "source": []
  }
 ],
 "metadata": {
  "kernelspec": {
   "display_name": "Python 3",
   "language": "python",
   "name": "python3"
  },
  "language_info": {
   "codemirror_mode": {
    "name": "ipython",
    "version": 3
   },
   "file_extension": ".py",
   "mimetype": "text/x-python",
   "name": "python",
   "nbconvert_exporter": "python",
   "pygments_lexer": "ipython3",
   "version": "3.11.1"
  },
  "orig_nbformat": 4
 },
 "nbformat": 4,
 "nbformat_minor": 2
}
